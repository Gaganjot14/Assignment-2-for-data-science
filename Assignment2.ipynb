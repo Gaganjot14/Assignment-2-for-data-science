{
 "cells": [
  {
   "cell_type": "code",
   "execution_count": 4,
   "id": "02c6f26b-8fb4-41e4-ab6d-f0b566184c66",
   "metadata": {},
   "outputs": [],
   "source": [
    "#question 1:We comment in python using Hash symbol and extend to the end of the line.\n",
    "# Python has two types of commenting single line comments which starts with a # sign the same way as i m doing in my assignment and the other one is by docstrings which are enclosed in triple quotes"
   ]
  },
  {
   "cell_type": "code",
   "execution_count": 5,
   "id": "e65c9e36-5a66-46d6-8737-89e2d95c62dd",
   "metadata": {},
   "outputs": [],
   "source": [
    "# qyestion 2:Python variables are simply containers which are used to store data values .Thereare many variables some of them are numbers, string,tuples,list,dict,set.\n",
    "#The assignment operator , denoted by the symbol'=' is the operator that is used to assign values to Variables in python."
   ]
  },
  {
   "cell_type": "code",
   "execution_count": 6,
   "id": "db12e672-abbf-489b-a454-51e66919ece5",
   "metadata": {},
   "outputs": [],
   "source": [
    "# question 3:  To convert one data type to another data type we have many in-built functions in python."
   ]
  },
  {
   "cell_type": "code",
   "execution_count": 7,
   "id": "71aec8d9-0703-44e9-b88a-0bf87c36f9a4",
   "metadata": {},
   "outputs": [],
   "source": [
    "# for example\n",
    "x=('gagan')"
   ]
  },
  {
   "cell_type": "code",
   "execution_count": 9,
   "id": "ace44d2f-c257-4819-b28e-9b8e668dfe8c",
   "metadata": {},
   "outputs": [
    {
     "data": {
      "text/plain": [
       "str"
      ]
     },
     "execution_count": 9,
     "metadata": {},
     "output_type": "execute_result"
    }
   ],
   "source": [
    "type(x)"
   ]
  },
  {
   "cell_type": "code",
   "execution_count": 14,
   "id": "200cd2ac-5341-4353-87d6-92b066b7e7e8",
   "metadata": {},
   "outputs": [
    {
     "data": {
      "text/plain": [
       "['g', 'a', 'g', 'a', 'n']"
      ]
     },
     "execution_count": 14,
     "metadata": {},
     "output_type": "execute_result"
    }
   ],
   "source": [
    "list(x)"
   ]
  },
  {
   "cell_type": "code",
   "execution_count": 12,
   "id": "ed674ab2-677c-4683-9fa9-cb2e08097e1d",
   "metadata": {},
   "outputs": [],
   "source": [
    "x=list(x)"
   ]
  },
  {
   "cell_type": "code",
   "execution_count": 13,
   "id": "f3ed7ef2-28b9-4d4c-a81b-9106914539fe",
   "metadata": {},
   "outputs": [
    {
     "data": {
      "text/plain": [
       "list"
      ]
     },
     "execution_count": 13,
     "metadata": {},
     "output_type": "execute_result"
    }
   ],
   "source": [
    "type(x)"
   ]
  },
  {
   "cell_type": "code",
   "execution_count": 15,
   "id": "d5b77d70-903f-4acf-b1b6-8b8d4cb07745",
   "metadata": {},
   "outputs": [],
   "source": [
    "# question 4 :The most basic and easy way to run a python script is by using the python command. You need to open a command line and type the word python followed by the path to your script like this:python first_script.py Hello World! then you hit the ENTER button from the keyboard and that's it."
   ]
  },
  {
   "cell_type": "code",
   "execution_count": 16,
   "id": "cb6c20a4-3b23-4f8e-9e02-92bfce374b9e",
   "metadata": {},
   "outputs": [],
   "source": [
    "#question 5:"
   ]
  },
  {
   "cell_type": "code",
   "execution_count": 17,
   "id": "d9ad2ef5-f8f5-4f67-be69-35c3ab4c2baf",
   "metadata": {},
   "outputs": [],
   "source": [
    "my_list=[1,2,3,4,5]"
   ]
  },
  {
   "cell_type": "code",
   "execution_count": 25,
   "id": "1ca871d9-9b77-4c39-b492-aad36de4c855",
   "metadata": {},
   "outputs": [
    {
     "data": {
      "text/plain": [
       "[2, 3]"
      ]
     },
     "execution_count": 25,
     "metadata": {},
     "output_type": "execute_result"
    }
   ],
   "source": [
    "my_list[1:3]"
   ]
  },
  {
   "cell_type": "code",
   "execution_count": 26,
   "id": "13869325-31f9-4070-95dd-66074b571007",
   "metadata": {},
   "outputs": [],
   "source": [
    "#question 6: In mathematics,a complex number is an element of a number system that extends the real numbers with a specific element denoted by i called the imaginary unit but in pythonn imaginary unit  is denoted j instead of i ."
   ]
  },
  {
   "cell_type": "code",
   "execution_count": 27,
   "id": "0b8f4f60-7726-4e49-9739-ab5510cfaa17",
   "metadata": {},
   "outputs": [],
   "source": [
    "# example:\n",
    "k=4+2j"
   ]
  },
  {
   "cell_type": "code",
   "execution_count": 28,
   "id": "d7774729-21e8-42c6-9e6c-0428ebd3b387",
   "metadata": {},
   "outputs": [
    {
     "data": {
      "text/plain": [
       "complex"
      ]
     },
     "execution_count": 28,
     "metadata": {},
     "output_type": "execute_result"
    }
   ],
   "source": [
    "type(k)"
   ]
  },
  {
   "cell_type": "code",
   "execution_count": 38,
   "id": "1e42f9fa-a6fc-4be5-bb9c-5ece542e469b",
   "metadata": {},
   "outputs": [],
   "source": [
    "# question 7: \n",
    "age=25"
   ]
  },
  {
   "cell_type": "code",
   "execution_count": 39,
   "id": "bdc50187-b612-4ea1-9813-cf31529d87c6",
   "metadata": {},
   "outputs": [
    {
     "data": {
      "text/plain": [
       "int"
      ]
     },
     "execution_count": 39,
     "metadata": {},
     "output_type": "execute_result"
    }
   ],
   "source": [
    "type(age)"
   ]
  },
  {
   "cell_type": "code",
   "execution_count": 40,
   "id": "9a865f6d-2b74-40f2-b098-ac2fbe4388af",
   "metadata": {},
   "outputs": [],
   "source": [
    "# question 8:\n",
    "price=9.99"
   ]
  },
  {
   "cell_type": "code",
   "execution_count": 41,
   "id": "1ec69837-9c29-44d5-a3d5-6036892c276c",
   "metadata": {},
   "outputs": [
    {
     "data": {
      "text/plain": [
       "float"
      ]
     },
     "execution_count": 41,
     "metadata": {},
     "output_type": "execute_result"
    }
   ],
   "source": [
    "type(price)"
   ]
  },
  {
   "cell_type": "code",
   "execution_count": 44,
   "id": "80d4b7bb-b7c3-4cfb-90b5-ea8ac3233a11",
   "metadata": {},
   "outputs": [],
   "source": [
    "#question 9:\n",
    "name='Gaganjot kaur'"
   ]
  },
  {
   "cell_type": "code",
   "execution_count": 45,
   "id": "ba69ba28-d4b4-48cf-bebe-f0dfa77645cc",
   "metadata": {},
   "outputs": [
    {
     "name": "stdout",
     "output_type": "stream",
     "text": [
      "Gaganjot kaur\n"
     ]
    }
   ],
   "source": [
    "print(name)"
   ]
  },
  {
   "cell_type": "code",
   "execution_count": 47,
   "id": "5f9a0a16-f64a-41ad-94a3-5402bb4b153f",
   "metadata": {},
   "outputs": [],
   "source": [
    "#question 10:\n",
    "s='hello,world!'"
   ]
  },
  {
   "cell_type": "code",
   "execution_count": 50,
   "id": "6e59d9e2-f705-4d09-8d7b-82dc7933813d",
   "metadata": {},
   "outputs": [
    {
     "data": {
      "text/plain": [
       "'world'"
      ]
     },
     "execution_count": 50,
     "metadata": {},
     "output_type": "execute_result"
    }
   ],
   "source": [
    "s[6:11]"
   ]
  },
  {
   "cell_type": "code",
   "execution_count": 53,
   "id": "173cbc91-032d-4a62-b47c-e96f16286fa3",
   "metadata": {},
   "outputs": [],
   "source": [
    "#question 11:\n",
    "is_student=True"
   ]
  },
  {
   "cell_type": "code",
   "execution_count": 54,
   "id": "99d20f74-143e-41c3-87e7-bf1f2dfb87c9",
   "metadata": {},
   "outputs": [
    {
     "data": {
      "text/plain": [
       "True"
      ]
     },
     "execution_count": 54,
     "metadata": {},
     "output_type": "execute_result"
    }
   ],
   "source": [
    "is_student"
   ]
  },
  {
   "cell_type": "code",
   "execution_count": null,
   "id": "31b47867-9a95-433e-b44d-781a10999879",
   "metadata": {},
   "outputs": [],
   "source": []
  }
 ],
 "metadata": {
  "kernelspec": {
   "display_name": "Python 3 (ipykernel)",
   "language": "python",
   "name": "python3"
  },
  "language_info": {
   "codemirror_mode": {
    "name": "ipython",
    "version": 3
   },
   "file_extension": ".py",
   "mimetype": "text/x-python",
   "name": "python",
   "nbconvert_exporter": "python",
   "pygments_lexer": "ipython3",
   "version": "3.10.8"
  }
 },
 "nbformat": 4,
 "nbformat_minor": 5
}
